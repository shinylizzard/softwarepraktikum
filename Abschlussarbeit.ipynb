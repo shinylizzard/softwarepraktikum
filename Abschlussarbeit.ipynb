{
 "cells": [
  {
   "cell_type": "markdown",
   "id": "78a1c098",
   "metadata": {},
   "source": [
    "## Unsere Abschlussarbeit\n",
    "\n",
    "### eine kooperatives Jupyternotebook von \n",
    "### Helen Kretzschmar,7147701, heli.dasKretzsch@gmx.de\n",
    "### Julia Ebsen, 7267421, julia.ebsen@posteo.de\n",
    "### Matti Tewes, 7309787, matti.tewes@gmail.com\n",
    "### Yannick Hoyer, 7150303, hoyeryannick@gmail.com\n",
    "\n"
   ]
  },
  {
   "cell_type": "code",
   "execution_count": 22,
   "id": "df278dbd",
   "metadata": {},
   "outputs": [],
   "source": [
    "import sympy as sp\n",
    "import scipy as sc\n",
    "import numpy as np\n",
    "import matplotlib as mp\n",
    "\n",
    "x = sp.S('x')                                       #Definieren der Symbole\n",
    "y = sp.S('y')\n",
    "t = sp.S('t')\n",
    "L = sp.S('L')\n",
    "T = sp.S('T')\n",
    "c = sp.S('c')\n",
    "u = sp.Function('u')\n",
    "X = sp.Function('X')\n",
    "T = sp.Function('T')"
   ]
  },
  {
   "cell_type": "markdown",
   "id": "2e1e4b54",
   "metadata": {},
   "source": [
    "# Aufgabenteil 3\n",
    "## 3.1.1"
   ]
  },
  {
   "cell_type": "code",
   "execution_count": 21,
   "id": "003fe0db",
   "metadata": {},
   "outputs": [
    {
     "name": "stdout",
     "output_type": "stream",
     "text": [
      "[Derivative(X(x), (x, 2))/X(x), Derivative(T(t), (t, 2))/(c**2*T(t))]\n"
     ]
    }
   ],
   "source": [
    "gl1 = sp.Eq(u(x,t).diff(t,t)-c**2*u(x,t).diff(x,x),0)\n",
    "\n",
    "##stimmt der Ansatz tatsächlich, dass man u(x,t) seperieren kann, in Terme,\n",
    "##die nur abhängig sind jeweils von x oder t??\n",
    "\n",
    "\n",
    "print(sp.solvers.pde.pde_separate_mul(gl1, u(x,t), [X(x), T(t)] ))\n",
    "\n",
    "##Ja, der Ansatz stimmt anscheinend"
   ]
  },
  {
   "cell_type": "markdown",
   "id": "85197332",
   "metadata": {},
   "source": [
    "## 3.1.2"
   ]
  },
  {
   "cell_type": "code",
   "execution_count": null,
   "id": "6e2ce6ca",
   "metadata": {},
   "outputs": [],
   "source": []
  },
  {
   "cell_type": "code",
   "execution_count": null,
   "id": "721fcd3b",
   "metadata": {},
   "outputs": [],
   "source": []
  }
 ],
 "metadata": {
  "kernelspec": {
   "display_name": "Python 3",
   "language": "python",
   "name": "python3"
  },
  "language_info": {
   "codemirror_mode": {
    "name": "ipython",
    "version": 3
   },
   "file_extension": ".py",
   "mimetype": "text/x-python",
   "name": "python",
   "nbconvert_exporter": "python",
   "pygments_lexer": "ipython3",
   "version": "3.8.8"
  }
 },
 "nbformat": 4,
 "nbformat_minor": 5
}
